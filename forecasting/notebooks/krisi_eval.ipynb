{
 "cells": [
  {
   "cell_type": "code",
   "execution_count": 1,
   "metadata": {},
   "outputs": [
    {
     "name": "stdout",
     "output_type": "stream",
     "text": [
      "Requirement already satisfied: krisi in /Users/jerrychen/Desktop/GitHub/alphaswarm/venv/lib/python3.12/site-packages (1.4.4)\n",
      "Requirement already satisfied: dill in /Users/jerrychen/Desktop/GitHub/alphaswarm/venv/lib/python3.12/site-packages (from krisi) (0.3.8)\n",
      "Requirement already satisfied: numpy in /Users/jerrychen/Desktop/GitHub/alphaswarm/venv/lib/python3.12/site-packages (from krisi) (1.26.4)\n",
      "Requirement already satisfied: pandas in /Users/jerrychen/Desktop/GitHub/alphaswarm/venv/lib/python3.12/site-packages (from krisi) (2.2.3)\n",
      "Requirement already satisfied: plotext in /Users/jerrychen/Desktop/GitHub/alphaswarm/venv/lib/python3.12/site-packages (from krisi) (5.3.2)\n",
      "Requirement already satisfied: pytest in /Users/jerrychen/Desktop/GitHub/alphaswarm/venv/lib/python3.12/site-packages (from krisi) (8.3.4)\n",
      "Requirement already satisfied: rich in /Users/jerrychen/Desktop/GitHub/alphaswarm/venv/lib/python3.12/site-packages (from krisi) (13.9.4)\n",
      "Requirement already satisfied: scikit-learn in /Users/jerrychen/Desktop/GitHub/alphaswarm/venv/lib/python3.12/site-packages (from krisi) (1.5.2)\n",
      "Requirement already satisfied: tqdm in /Users/jerrychen/Desktop/GitHub/alphaswarm/venv/lib/python3.12/site-packages (from krisi) (4.67.1)\n",
      "Requirement already satisfied: typing-extensions in /Users/jerrychen/Desktop/GitHub/alphaswarm/venv/lib/python3.12/site-packages (from krisi) (4.12.2)\n",
      "Requirement already satisfied: python-dateutil>=2.8.2 in /Users/jerrychen/Desktop/GitHub/alphaswarm/venv/lib/python3.12/site-packages (from pandas->krisi) (2.9.0.post0)\n",
      "Requirement already satisfied: pytz>=2020.1 in /Users/jerrychen/Desktop/GitHub/alphaswarm/venv/lib/python3.12/site-packages (from pandas->krisi) (2024.2)\n",
      "Requirement already satisfied: tzdata>=2022.7 in /Users/jerrychen/Desktop/GitHub/alphaswarm/venv/lib/python3.12/site-packages (from pandas->krisi) (2025.1)\n",
      "Requirement already satisfied: iniconfig in /Users/jerrychen/Desktop/GitHub/alphaswarm/venv/lib/python3.12/site-packages (from pytest->krisi) (2.0.0)\n",
      "Requirement already satisfied: packaging in /Users/jerrychen/Desktop/GitHub/alphaswarm/venv/lib/python3.12/site-packages (from pytest->krisi) (24.2)\n",
      "Requirement already satisfied: pluggy<2,>=1.5 in /Users/jerrychen/Desktop/GitHub/alphaswarm/venv/lib/python3.12/site-packages (from pytest->krisi) (1.5.0)\n",
      "Requirement already satisfied: markdown-it-py>=2.2.0 in /Users/jerrychen/Desktop/GitHub/alphaswarm/venv/lib/python3.12/site-packages (from rich->krisi) (3.0.0)\n",
      "Requirement already satisfied: pygments<3.0.0,>=2.13.0 in /Users/jerrychen/Desktop/GitHub/alphaswarm/venv/lib/python3.12/site-packages (from rich->krisi) (2.19.1)\n",
      "Requirement already satisfied: scipy>=1.6.0 in /Users/jerrychen/Desktop/GitHub/alphaswarm/venv/lib/python3.12/site-packages (from scikit-learn->krisi) (1.15.2)\n",
      "Requirement already satisfied: joblib>=1.2.0 in /Users/jerrychen/Desktop/GitHub/alphaswarm/venv/lib/python3.12/site-packages (from scikit-learn->krisi) (1.4.2)\n",
      "Requirement already satisfied: threadpoolctl>=3.1.0 in /Users/jerrychen/Desktop/GitHub/alphaswarm/venv/lib/python3.12/site-packages (from scikit-learn->krisi) (3.5.0)\n",
      "Requirement already satisfied: mdurl~=0.1 in /Users/jerrychen/Desktop/GitHub/alphaswarm/venv/lib/python3.12/site-packages (from markdown-it-py>=2.2.0->rich->krisi) (0.1.2)\n",
      "Requirement already satisfied: six>=1.5 in /Users/jerrychen/Desktop/GitHub/alphaswarm/venv/lib/python3.12/site-packages (from python-dateutil>=2.8.2->pandas->krisi) (1.17.0)\n",
      "\u001b[31mERROR: Invalid requirement: 'plotly,': Expected end or semicolon (after name and no valid version specifier)\n",
      "    plotly,\n",
      "          ^\u001b[0m\u001b[31m\n",
      "\u001b[0m"
     ]
    }
   ],
   "source": [
    "!pip install krisi\n",
    "!pip install plotly, kaleido, statsmodels, weasyprint"
   ]
  },
  {
   "cell_type": "code",
   "execution_count": 3,
   "metadata": {},
   "outputs": [],
   "source": [
    "from alphaswarm.services.alchemy import AlchemyClient\n",
    "from alphaswarm.tools.alchemy.alchemy_price_history import GetAlchemyPriceHistoryBySymbol\n",
    "from alphaswarm.tools.forecasting.price_forecasting import ForecastTokenPrice\n",
    "from alphaswarm.services.alchemy import HistoricalPriceBySymbol\n",
    "\n",
    "import numpy as np\n",
    "from krisi.evaluate import score"
   ]
  },
  {
   "cell_type": "code",
   "execution_count": 4,
   "metadata": {},
   "outputs": [],
   "source": [
    "total_days = 130\n",
    "num_y = 30\n",
    "\n",
    "alchemy_client = AlchemyClient.from_env()\n",
    "tool = GetAlchemyPriceHistoryBySymbol(alchemy_client)\n",
    "gold_result = tool.forward(symbol=\"WETH\", interval=\"1d\", history=total_days)\n",
    "\n",
    "# use the first 6 days data as input to the forecaster\n",
    "historical_data = HistoricalPriceBySymbol(symbol=gold_result.symbol, data=[p for p in gold_result.data[:-num_y]])"
   ]
  },
  {
   "cell_type": "code",
   "execution_count": 5,
   "metadata": {},
   "outputs": [
    {
     "data": {
      "text/plain": [
       "100"
      ]
     },
     "execution_count": 5,
     "metadata": {},
     "output_type": "execute_result"
    }
   ],
   "source": [
    "len(historical_data.data)"
   ]
  },
  {
   "cell_type": "markdown",
   "metadata": {},
   "source": [
    "## Predictions without context"
   ]
  },
  {
   "cell_type": "code",
   "execution_count": 7,
   "metadata": {},
   "outputs": [],
   "source": [
    "forecaster = ForecastTokenPrice()\n",
    "forecast_data = forecaster.forward(historical_price_data = historical_data,\n",
    "                              forecast_horizon=f\"everyday for next {num_y} days\",\n",
    "                              supporting_context=None\n",
    "                              )"
   ]
  },
  {
   "cell_type": "code",
   "execution_count": 8,
   "metadata": {},
   "outputs": [
    {
     "name": "stderr",
     "output_type": "stream",
     "text": [
      "/Users/jerrychen/Desktop/GitHub/alphaswarm/venv/lib/python3.12/site-packages/sklearn/metrics/_regression.py:492: FutureWarning: 'squared' is deprecated in version 1.4 and will be removed in 1.6. To calculate the root mean squared error, use the function'root_mean_squared_error'.\n",
      "  warnings.warn(\n",
      "/Users/jerrychen/Desktop/GitHub/alphaswarm/venv/lib/python3.12/site-packages/sklearn/metrics/_regression.py:492: FutureWarning: 'squared' is deprecated in version 1.4 and will be removed in 1.6. To calculate the root mean squared error, use the function'root_mean_squared_error'.\n",
      "  warnings.warn(\n"
     ]
    },
    {
     "data": {
      "text/html": [
       "<pre style=\"white-space:pre;overflow-x:auto;line-height:normal;font-family:Menlo,'DejaVu Sans Mono',consolas,'Courier New',monospace\">                                          Model_20250306-190307ec02338f\n",
       "                     Mean Absolute Error                   <span style=\"color: #008080; text-decoration-color: #008080; font-weight: bold\">9.066591e+02</span>\n",
       "          Mean Absolute Percentage Error                   <span style=\"color: #008080; text-decoration-color: #008080; font-weight: bold\">3.762848e-01</span>\n",
       "Symmetric Mean Absolute Percentage Error                   <span style=\"color: #008080; text-decoration-color: #008080; font-weight: bold\">1.472784e-01</span>\n",
       "                      Mean Squared Error                   <span style=\"color: #008080; text-decoration-color: #008080; font-weight: bold\">1.182431e+06</span>\n",
       "                 Root Mean Squared Error                   <span style=\"color: #008080; text-decoration-color: #008080; font-weight: bold\">1.087396e+03</span>\n",
       "                               R-squared                  <span style=\"color: #008080; text-decoration-color: #008080; font-weight: bold\">-2.597678e+01</span>\n",
       "                   Mean of the Residuals                  <span style=\"color: #008080; text-decoration-color: #008080; font-weight: bold\">-9.057747e+02</span>\n",
       "     Standard Deviation of the Residuals                   <span style=\"color: #008080; text-decoration-color: #008080; font-weight: bold\">6.119524e+02</span>\n",
       "</pre>\n"
      ],
      "text/plain": [
       "                                          Model_20250306-190307ec02338f\n",
       "                     Mean Absolute Error                   \u001b[1;36m9.066591e+02\u001b[0m\n",
       "          Mean Absolute Percentage Error                   \u001b[1;36m3.762848e-01\u001b[0m\n",
       "Symmetric Mean Absolute Percentage Error                   \u001b[1;36m1.472784e-01\u001b[0m\n",
       "                      Mean Squared Error                   \u001b[1;36m1.182431e+06\u001b[0m\n",
       "                 Root Mean Squared Error                   \u001b[1;36m1.087396e+03\u001b[0m\n",
       "                               R-squared                  \u001b[1;36m-2.597678e+01\u001b[0m\n",
       "                   Mean of the Residuals                  \u001b[1;36m-9.057747e+02\u001b[0m\n",
       "     Standard Deviation of the Residuals                   \u001b[1;36m6.119524e+02\u001b[0m\n"
      ]
     },
     "metadata": {},
     "output_type": "display_data"
    }
   ],
   "source": [
    "references = np.array([float(p.value) for p in gold_result.data[-num_y:]])\n",
    "predictions_1 = np.array([float(f.price) for f in forecast_data.forecast[1:]])\n",
    "scorecard_1 = score(y=references, predictions=predictions_1)\n",
    "scorecard_1.print('minimal')"
   ]
  },
  {
   "cell_type": "code",
   "execution_count": 9,
   "metadata": {},
   "outputs": [
    {
     "data": {
      "text/plain": [
       "11"
      ]
     },
     "execution_count": 9,
     "metadata": {},
     "output_type": "execute_result"
    }
   ],
   "source": [
    "len(forecast_data.forecast)"
   ]
  },
  {
   "cell_type": "markdown",
   "metadata": {},
   "source": [
    "## Try again with additional context"
   ]
  },
  {
   "cell_type": "code",
   "execution_count": 29,
   "metadata": {},
   "outputs": [],
   "source": [
    "additional_context = \"\"\"\n",
    "The value of AIXBT between February 11 and February 17, 2025, was influenced by several key developments and market dynamics:\n",
    "\n",
    "### Price Predictions and Market Sentiment\n",
    "- **CryptoPredictions.com's February 2025 Forecast**: Released around this period, the projection anticipated AIXBT closing February at **$0.1924**, with a potential peak of **$0.4011** and a floor of **$0.1924**[2]. This mixed outlook likely caused cautious trading behavior.\n",
    "- **MEXC's Conservative Estimate**: On February 15, MEXC predicted AIXBT would reach **$0.2180** by February 24 using a 5% annual growth model[3], reinforcing short-term stability expectations.\n",
    "\n",
    "### Exchange Listings and Volatility\n",
    "- **Binance Integration**: AIXBT's January 10 listing on Binance (with pairs like AIXBT/USDT) continued to impact liquidity and accessibility during February, contributing to daily volatility[4]. The \"Seed Tag\" label highlighted its early-stage risks, affecting investor confidence[2].\n",
    "\n",
    "### Whale Activity and Market Manipulation Concerns\n",
    "- **Whale Accumulation**: Large holders purchased **3.81M AIXBT** in early February, driving a 41% price surge[6]. By February 17, whale activity remained a focal point, with concerns that concentrated buying could lead to sharp corrections if demand waned[7].\n",
    "\n",
    "### Technical Analysis and Trading Strategies\n",
    "- **Support/Resistance Levels**: Traders monitored key levels, including:\n",
    "  - **Support**: $0.2600–$0.2700\n",
    "  - **Resistance**: $0.3100–$0.3250[1][7]\n",
    "- **Bullish/Bearish Setups**: Strategies circulated for long positions (targeting **$0.3100–$0.3200**) and short positions (targeting **$0.2700–$0.2800**)[1], influencing intraweek price swings.\n",
    "\n",
    "### Sector-Wide Trends\n",
    "- **AI Token Recovery**: The broader AI agent token sector rebounded from $11B to $14.66B during this period[7], lifting AIXBT as a top performer. Its integration with AI-driven market analytics tools kept it in focus[11].\n",
    "\n",
    "---\n",
    "\n",
    "While no major partnerships or protocol updates occurred during this specific window, AIXBT’s price action was shaped by lingering effects of its Binance listing, whale-driven volatility, and evolving sector trends.\n",
    "\"\"\""
   ]
  },
  {
   "cell_type": "code",
   "execution_count": 28,
   "metadata": {},
   "outputs": [],
   "source": [
    "additional_context = \"\"\"\n",
    "Ethereum's market dynamics in the first 20 days of the last 30 days (January 20–February 8, 2025) were shaped by several key developments in the U.S. regulatory and institutional landscape:  \n",
    "\n",
    "### U.S. Regulatory Shifts  \n",
    "- On **January 23**, President Trump issued an executive order revamping crypto policy to prioritize blockchain innovation and oppose central bank digital currencies (CBDCs). This directive established a federal working group to redefine crypto regulations and evaluate a national crypto asset reserve[8].  \n",
    "\n",
    "### Institutional Activity  \n",
    "- **Goldman Sachs** and **BlackRock** signaled growing interest in Ethereum, with reports of potential acquisitions for a U.S. crypto reserve[9].  \n",
    "- **World Liberty Financial** (WLF), linked to the Trump family, continued large-scale ETH purchases, aligning with its strategy to bolster institutional crypto holdings[6][9].  \n",
    "\n",
    "### ETF Inflows  \n",
    "- Spot Ethereum ETFs saw notable inflows, with **BlackRock** and **Fidelity** leading institutional demand. By February 3, Ethereum ETFs had absorbed 145,000 ETH, reflecting heightened investor confidence despite market volatility[12].  \n",
    "\n",
    "### On-Chain Metrics  \n",
    "- Ethereum’s network activity surged, with daily active addresses peaking at **712,276** on January 25—a nine-month high. Transactional activity also rose, signaling renewed user engagement[6].  \n",
    "\n",
    "These developments underscore Ethereum’s evolving role in U.S. financial infrastructure, driven by regulatory clarity, institutional adoption, and network growth.\n",
    "\"\"\"\n",
    "\n",
    "forecast_data_2 = forecaster.forward(historical_price_data = historical_data,\n",
    "                              forecast_horizon=\"everyday for next 10 days\",\n",
    "                              supporting_context=additional_context\n",
    "                              )"
   ]
  },
  {
   "cell_type": "code",
   "execution_count": 26,
   "metadata": {},
   "outputs": [
    {
     "data": {
      "text/plain": [
       "[PriceForecast(timestamp=datetime.datetime(2025, 2, 9, 0, 0, tzinfo=TzInfo(UTC)), price=Decimal('2635.4'), lower_confidence_bound=Decimal('2635.4'), upper_confidence_bound=Decimal('2635.4')),\n",
       " PriceForecast(timestamp=datetime.datetime(2025, 2, 10, 0, 0, tzinfo=TzInfo(UTC)), price=Decimal('2680'), lower_confidence_bound=Decimal('2590'), upper_confidence_bound=Decimal('2770')),\n",
       " PriceForecast(timestamp=datetime.datetime(2025, 2, 11, 0, 0, tzinfo=TzInfo(UTC)), price=Decimal('2740'), lower_confidence_bound=Decimal('2620'), upper_confidence_bound=Decimal('2860')),\n",
       " PriceForecast(timestamp=datetime.datetime(2025, 2, 12, 0, 0, tzinfo=TzInfo(UTC)), price=Decimal('2815'), lower_confidence_bound=Decimal('2650'), upper_confidence_bound=Decimal('2980')),\n",
       " PriceForecast(timestamp=datetime.datetime(2025, 2, 13, 0, 0, tzinfo=TzInfo(UTC)), price=Decimal('2900'), lower_confidence_bound=Decimal('2680'), upper_confidence_bound=Decimal('3120')),\n",
       " PriceForecast(timestamp=datetime.datetime(2025, 2, 14, 0, 0, tzinfo=TzInfo(UTC)), price=Decimal('2995'), lower_confidence_bound=Decimal('2710'), upper_confidence_bound=Decimal('3280')),\n",
       " PriceForecast(timestamp=datetime.datetime(2025, 2, 15, 0, 0, tzinfo=TzInfo(UTC)), price=Decimal('3100'), lower_confidence_bound=Decimal('2750'), upper_confidence_bound=Decimal('3450')),\n",
       " PriceForecast(timestamp=datetime.datetime(2025, 2, 16, 0, 0, tzinfo=TzInfo(UTC)), price=Decimal('3215'), lower_confidence_bound=Decimal('2790'), upper_confidence_bound=Decimal('3640')),\n",
       " PriceForecast(timestamp=datetime.datetime(2025, 2, 17, 0, 0, tzinfo=TzInfo(UTC)), price=Decimal('3340'), lower_confidence_bound=Decimal('2830'), upper_confidence_bound=Decimal('3850')),\n",
       " PriceForecast(timestamp=datetime.datetime(2025, 2, 18, 0, 0, tzinfo=TzInfo(UTC)), price=Decimal('3475'), lower_confidence_bound=Decimal('2870'), upper_confidence_bound=Decimal('4080'))]"
      ]
     },
     "execution_count": 26,
     "metadata": {},
     "output_type": "execute_result"
    }
   ],
   "source": [
    "forecast_data_2.forecast"
   ]
  },
  {
   "cell_type": "code",
   "execution_count": 30,
   "metadata": {},
   "outputs": [
    {
     "data": {
      "text/plain": [
       "10"
      ]
     },
     "execution_count": 30,
     "metadata": {},
     "output_type": "execute_result"
    }
   ],
   "source": [
    "len(forecast_data_2.forecast)"
   ]
  },
  {
   "cell_type": "code",
   "execution_count": 32,
   "metadata": {},
   "outputs": [
    {
     "ename": "AssertionError",
     "evalue": "Target length 10 should match predictions length 9",
     "output_type": "error",
     "traceback": [
      "\u001b[0;31m---------------------------------------------------------------------------\u001b[0m",
      "\u001b[0;31mAssertionError\u001b[0m                            Traceback (most recent call last)",
      "Cell \u001b[0;32mIn[32], line 2\u001b[0m\n\u001b[1;32m      1\u001b[0m predictions_2 \u001b[38;5;241m=\u001b[39m np\u001b[38;5;241m.\u001b[39marray([\u001b[38;5;28mfloat\u001b[39m(f\u001b[38;5;241m.\u001b[39mprice) \u001b[38;5;28;01mfor\u001b[39;00m f \u001b[38;5;129;01min\u001b[39;00m forecast_data_2\u001b[38;5;241m.\u001b[39mforecast[\u001b[38;5;241m1\u001b[39m:]])\n\u001b[0;32m----> 2\u001b[0m scorecard_2 \u001b[38;5;241m=\u001b[39m \u001b[43mscore\u001b[49m\u001b[43m(\u001b[49m\u001b[43my\u001b[49m\u001b[38;5;241;43m=\u001b[39;49m\u001b[43mreferences\u001b[49m\u001b[43m,\u001b[49m\u001b[43m \u001b[49m\u001b[43mpredictions\u001b[49m\u001b[38;5;241;43m=\u001b[39;49m\u001b[43mpredictions_2\u001b[49m\u001b[43m)\u001b[49m\n\u001b[1;32m      3\u001b[0m scorecard_2\u001b[38;5;241m.\u001b[39mprint(\u001b[38;5;124m'\u001b[39m\u001b[38;5;124mminimal\u001b[39m\u001b[38;5;124m'\u001b[39m)\n",
      "File \u001b[0;32m~/Desktop/GitHub/alphaswarm/venv/lib/python3.12/site-packages/krisi/evaluate/score.py:94\u001b[0m, in \u001b[0;36mscore\u001b[0;34m(y, predictions, probabilities, sample_weight, model_name, dataset_name, project_name, default_metrics, custom_metrics, dataset_type, sample_type, calculation, rolling_args, raise_exceptions, benchmark_models, num_benchmark_iter, **kwargs)\u001b[0m\n\u001b[1;32m     88\u001b[0m calculation \u001b[38;5;241m=\u001b[39m Calculation\u001b[38;5;241m.\u001b[39mfrom_str(calculation)\n\u001b[1;32m     90\u001b[0m benchmark_models \u001b[38;5;241m=\u001b[39m (\n\u001b[1;32m     91\u001b[0m     wrap_in_list(benchmark_models) \u001b[38;5;28;01mif\u001b[39;00m benchmark_models \u001b[38;5;129;01mis\u001b[39;00m \u001b[38;5;129;01mnot\u001b[39;00m \u001b[38;5;28;01mNone\u001b[39;00m \u001b[38;5;28;01melse\u001b[39;00m \u001b[38;5;28;01mNone\u001b[39;00m\n\u001b[1;32m     92\u001b[0m )\n\u001b[0;32m---> 94\u001b[0m sc \u001b[38;5;241m=\u001b[39m \u001b[43mScoreCard\u001b[49m\u001b[43m(\u001b[49m\n\u001b[1;32m     95\u001b[0m \u001b[43m    \u001b[49m\u001b[43my\u001b[49m\u001b[38;5;241;43m=\u001b[39;49m\u001b[43my\u001b[49m\u001b[43m,\u001b[49m\n\u001b[1;32m     96\u001b[0m \u001b[43m    \u001b[49m\u001b[43mpredictions\u001b[49m\u001b[38;5;241;43m=\u001b[39;49m\u001b[43mpredictions\u001b[49m\u001b[43m,\u001b[49m\n\u001b[1;32m     97\u001b[0m \u001b[43m    \u001b[49m\u001b[43mprobabilities\u001b[49m\u001b[38;5;241;43m=\u001b[39;49m\u001b[43mprobabilities\u001b[49m\u001b[43m,\u001b[49m\n\u001b[1;32m     98\u001b[0m \u001b[43m    \u001b[49m\u001b[43msample_weight\u001b[49m\u001b[38;5;241;43m=\u001b[39;49m\u001b[43msample_weight\u001b[49m\u001b[43m,\u001b[49m\n\u001b[1;32m     99\u001b[0m \u001b[43m    \u001b[49m\u001b[43mmodel_name\u001b[49m\u001b[38;5;241;43m=\u001b[39;49m\u001b[43mmodel_name\u001b[49m\u001b[43m,\u001b[49m\n\u001b[1;32m    100\u001b[0m \u001b[43m    \u001b[49m\u001b[43mdataset_name\u001b[49m\u001b[38;5;241;43m=\u001b[39;49m\u001b[43mdataset_name\u001b[49m\u001b[43m,\u001b[49m\n\u001b[1;32m    101\u001b[0m \u001b[43m    \u001b[49m\u001b[43mproject_name\u001b[49m\u001b[38;5;241;43m=\u001b[39;49m\u001b[43mproject_name\u001b[49m\u001b[43m,\u001b[49m\n\u001b[1;32m    102\u001b[0m \u001b[43m    \u001b[49m\u001b[43msample_type\u001b[49m\u001b[38;5;241;43m=\u001b[39;49m\u001b[43msample_type\u001b[49m\u001b[43m,\u001b[49m\n\u001b[1;32m    103\u001b[0m \u001b[43m    \u001b[49m\u001b[43mdataset_type\u001b[49m\u001b[38;5;241;43m=\u001b[39;49m\u001b[43mdataset_type\u001b[49m\u001b[43m,\u001b[49m\n\u001b[1;32m    104\u001b[0m \u001b[43m    \u001b[49m\u001b[43mdefault_metrics\u001b[49m\u001b[38;5;241;43m=\u001b[39;49m\u001b[43mdefault_metrics\u001b[49m\u001b[43m,\u001b[49m\n\u001b[1;32m    105\u001b[0m \u001b[43m    \u001b[49m\u001b[43mcustom_metrics\u001b[49m\u001b[38;5;241;43m=\u001b[39;49m\u001b[43mcustom_metrics\u001b[49m\u001b[43m,\u001b[49m\n\u001b[1;32m    106\u001b[0m \u001b[43m    \u001b[49m\u001b[43mrolling_args\u001b[49m\u001b[38;5;241;43m=\u001b[39;49m\u001b[43mrolling_args\u001b[49m\u001b[43m,\u001b[49m\n\u001b[1;32m    107\u001b[0m \u001b[43m    \u001b[49m\u001b[43mraise_exceptions\u001b[49m\u001b[38;5;241;43m=\u001b[39;49m\u001b[43mraise_exceptions\u001b[49m\u001b[43m,\u001b[49m\n\u001b[1;32m    108\u001b[0m \u001b[43m    \u001b[49m\u001b[38;5;241;43m*\u001b[39;49m\u001b[38;5;241;43m*\u001b[39;49m\u001b[43mkwargs\u001b[49m\u001b[43m,\u001b[49m\n\u001b[1;32m    109\u001b[0m \u001b[43m\u001b[49m\u001b[43m)\u001b[49m\n\u001b[1;32m    111\u001b[0m \u001b[38;5;28;01massert\u001b[39;00m calculation \u001b[38;5;129;01min\u001b[39;00m [\n\u001b[1;32m    112\u001b[0m     Calculation\u001b[38;5;241m.\u001b[39msingle,\n\u001b[1;32m    113\u001b[0m     Calculation\u001b[38;5;241m.\u001b[39mrolling,\n\u001b[1;32m    114\u001b[0m     Calculation\u001b[38;5;241m.\u001b[39mboth,\n\u001b[1;32m    115\u001b[0m ], \u001b[38;5;124mf\u001b[39m\u001b[38;5;124m\"\u001b[39m\u001b[38;5;124mCalculation type \u001b[39m\u001b[38;5;132;01m{\u001b[39;00mcalculation\u001b[38;5;132;01m}\u001b[39;00m\u001b[38;5;124m not recognized.\u001b[39m\u001b[38;5;124m\"\u001b[39m\n\u001b[1;32m    117\u001b[0m \u001b[38;5;28;01mif\u001b[39;00m calculation \u001b[38;5;241m==\u001b[39m Calculation\u001b[38;5;241m.\u001b[39msingle:\n",
      "File \u001b[0;32m~/Desktop/GitHub/alphaswarm/venv/lib/python3.12/site-packages/krisi/evaluate/scorecard.py:163\u001b[0m, in \u001b[0;36mScoreCard.__init__\u001b[0;34m(self, y, predictions, probabilities, sample_weight, model_name, model_description, dataset_name, dataset_description, project_name, project_description, dataset_type, sample_type, default_metrics, custom_metrics, rolling_args, raise_exceptions)\u001b[0m\n\u001b[1;32m    161\u001b[0m sample_type \u001b[38;5;241m=\u001b[39m SampleTypes\u001b[38;5;241m.\u001b[39mfrom_str(sample_type)\n\u001b[1;32m    162\u001b[0m dataset_type \u001b[38;5;241m=\u001b[39m DatasetType\u001b[38;5;241m.\u001b[39mfrom_str(dataset_type) \u001b[38;5;28;01mif\u001b[39;00m dataset_type \u001b[38;5;28;01melse\u001b[39;00m \u001b[38;5;28;01mNone\u001b[39;00m\n\u001b[0;32m--> 163\u001b[0m \u001b[43mcheck_valid_pred_target\u001b[49m\u001b[43m(\u001b[49m\u001b[43my\u001b[49m\u001b[43m,\u001b[49m\u001b[43m \u001b[49m\u001b[43mpredictions\u001b[49m\u001b[43m,\u001b[49m\u001b[43m \u001b[49m\u001b[43msample_weight\u001b[49m\u001b[43m)\u001b[49m\n\u001b[1;32m    164\u001b[0m default_metrics \u001b[38;5;241m=\u001b[39m (\n\u001b[1;32m    165\u001b[0m     wrap_in_list(default_metrics) \u001b[38;5;28;01mif\u001b[39;00m default_metrics \u001b[38;5;129;01mis\u001b[39;00m \u001b[38;5;129;01mnot\u001b[39;00m \u001b[38;5;28;01mNone\u001b[39;00m \u001b[38;5;28;01melse\u001b[39;00m \u001b[38;5;28;01mNone\u001b[39;00m\n\u001b[1;32m    166\u001b[0m )\n\u001b[1;32m    167\u001b[0m custom_metrics \u001b[38;5;241m=\u001b[39m (\n\u001b[1;32m    168\u001b[0m     wrap_in_list(custom_metrics) \u001b[38;5;28;01mif\u001b[39;00m custom_metrics \u001b[38;5;129;01mis\u001b[39;00m \u001b[38;5;129;01mnot\u001b[39;00m \u001b[38;5;28;01mNone\u001b[39;00m \u001b[38;5;28;01melse\u001b[39;00m \u001b[38;5;28;01mNone\u001b[39;00m\n\u001b[1;32m    169\u001b[0m )\n",
      "File \u001b[0;32m~/Desktop/GitHub/alphaswarm/venv/lib/python3.12/site-packages/krisi/evaluate/assertions.py:42\u001b[0m, in \u001b[0;36mcheck_valid_pred_target\u001b[0;34m(y, predictions, sample_weights)\u001b[0m\n\u001b[1;32m     39\u001b[0m \u001b[38;5;28;01mdef\u001b[39;00m\u001b[38;5;250m \u001b[39m\u001b[38;5;21mcheck_valid_pred_target\u001b[39m(\n\u001b[1;32m     40\u001b[0m     y: Targets, predictions: Predictions, sample_weights: Optional[Weights]\n\u001b[1;32m     41\u001b[0m ):\n\u001b[0;32m---> 42\u001b[0m     \u001b[38;5;28;01massert\u001b[39;00m \u001b[38;5;28mlen\u001b[39m(y) \u001b[38;5;241m==\u001b[39m \u001b[38;5;28mlen\u001b[39m(\n\u001b[1;32m     43\u001b[0m         predictions\n\u001b[1;32m     44\u001b[0m     ), \u001b[38;5;124mf\u001b[39m\u001b[38;5;124m\"\u001b[39m\u001b[38;5;124mTarget length \u001b[39m\u001b[38;5;132;01m{\u001b[39;00m\u001b[38;5;28mlen\u001b[39m(y)\u001b[38;5;132;01m}\u001b[39;00m\u001b[38;5;124m should match predictions length \u001b[39m\u001b[38;5;132;01m{\u001b[39;00m\u001b[38;5;28mlen\u001b[39m(predictions)\u001b[38;5;132;01m}\u001b[39;00m\u001b[38;5;124m\"\u001b[39m\n\u001b[1;32m     45\u001b[0m     \u001b[38;5;28;01mif\u001b[39;00m sample_weights \u001b[38;5;129;01mis\u001b[39;00m \u001b[38;5;129;01mnot\u001b[39;00m \u001b[38;5;28;01mNone\u001b[39;00m:\n\u001b[1;32m     46\u001b[0m         \u001b[38;5;28;01massert\u001b[39;00m \u001b[38;5;28mlen\u001b[39m(y) \u001b[38;5;241m==\u001b[39m \u001b[38;5;28mlen\u001b[39m(\n\u001b[1;32m     47\u001b[0m             sample_weights\n\u001b[1;32m     48\u001b[0m         ), \u001b[38;5;124mf\u001b[39m\u001b[38;5;124m\"\u001b[39m\u001b[38;5;124mTarget length \u001b[39m\u001b[38;5;132;01m{\u001b[39;00m\u001b[38;5;28mlen\u001b[39m(y)\u001b[38;5;132;01m}\u001b[39;00m\u001b[38;5;124m should match sample_weights length \u001b[39m\u001b[38;5;132;01m{\u001b[39;00m\u001b[38;5;28mlen\u001b[39m(sample_weights)\u001b[38;5;132;01m}\u001b[39;00m\u001b[38;5;124m\"\u001b[39m\n",
      "\u001b[0;31mAssertionError\u001b[0m: Target length 10 should match predictions length 9"
     ]
    }
   ],
   "source": [
    "predictions_2 = np.array([float(f.price) for f in forecast_data_2.forecast[1:]])\n",
    "scorecard_2 = score(y=references, predictions=predictions_2)\n",
    "scorecard_2.print('minimal')"
   ]
  },
  {
   "cell_type": "markdown",
   "metadata": {},
   "source": [
    "## Comparing"
   ]
  },
  {
   "cell_type": "code",
   "execution_count": 21,
   "metadata": {},
   "outputs": [
    {
     "data": {
      "text/html": [
       "<div>\n",
       "<style scoped>\n",
       "    .dataframe tbody tr th:only-of-type {\n",
       "        vertical-align: middle;\n",
       "    }\n",
       "\n",
       "    .dataframe tbody tr th {\n",
       "        vertical-align: top;\n",
       "    }\n",
       "\n",
       "    .dataframe thead th {\n",
       "        text-align: right;\n",
       "    }\n",
       "</style>\n",
       "<table border=\"1\" class=\"dataframe\">\n",
       "  <thead>\n",
       "    <tr style=\"text-align: right;\">\n",
       "      <th></th>\n",
       "      <th>r_two</th>\n",
       "      <th>mae</th>\n",
       "      <th>mape</th>\n",
       "      <th>smape</th>\n",
       "      <th>residuals_mean</th>\n",
       "      <th>residuals_std</th>\n",
       "    </tr>\n",
       "  </thead>\n",
       "  <tbody>\n",
       "    <tr>\n",
       "      <th>Model_20250219-155842b9ae7a75</th>\n",
       "      <td>-13.221972</td>\n",
       "      <td>142.483792</td>\n",
       "      <td>0.052803</td>\n",
       "      <td>0.027318</td>\n",
       "      <td>142.483792</td>\n",
       "      <td>78.721074</td>\n",
       "    </tr>\n",
       "    <tr>\n",
       "      <th>Model_20250219-155511f1fa3797</th>\n",
       "      <td>-19.654719</td>\n",
       "      <td>166.983792</td>\n",
       "      <td>0.061893</td>\n",
       "      <td>0.032293</td>\n",
       "      <td>166.983792</td>\n",
       "      <td>103.819638</td>\n",
       "    </tr>\n",
       "  </tbody>\n",
       "</table>\n",
       "</div>"
      ],
      "text/plain": [
       "                                   r_two         mae      mape     smape  \\\n",
       "Model_20250219-155842b9ae7a75 -13.221972  142.483792  0.052803  0.027318   \n",
       "Model_20250219-155511f1fa3797 -19.654719  166.983792  0.061893  0.032293   \n",
       "\n",
       "                               residuals_mean  residuals_std  \n",
       "Model_20250219-155842b9ae7a75      142.483792      78.721074  \n",
       "Model_20250219-155511f1fa3797      166.983792     103.819638  "
      ]
     },
     "execution_count": 21,
     "metadata": {},
     "output_type": "execute_result"
    }
   ],
   "source": [
    "from krisi import compare\n",
    "\n",
    "compare([scorecard_1, scorecard_2], sort_by=\"r_two\")"
   ]
  },
  {
   "cell_type": "markdown",
   "metadata": {},
   "source": [
    "## Saving and Loading"
   ]
  },
  {
   "cell_type": "code",
   "execution_count": 111,
   "metadata": {},
   "outputs": [
    {
     "data": {
      "text/html": [
       "<pre style=\"white-space:pre;overflow-x:auto;line-height:normal;font-family:Menlo,'DejaVu Sans Mono',consolas,'Courier New',monospace\"></pre>\n"
      ],
      "text/plain": []
     },
     "metadata": {},
     "output_type": "display_data"
    },
    {
     "data": {
      "text/plain": [
       "<krisi.evaluate.scorecard.ScoreCard object at 0x13fdf6de0\n",
       "           Model_20250218-182932253fc0f0 | Dataset_20250218-18293219650564 \n",
       "   no context predictions - aixbt - 0218 | regression\n",
       "\n",
       "                     Mean Absolute Error - 0.0056487      \n",
       "          Mean Absolute Percentage Error - 0.031038       \n",
       "Symmetric Mean Absolute Percentage Error - 0.015289       \n",
       "                               R-squared - 0.5489         \n",
       "                   Mean of the Residuals - -0.0025328     \n",
       "     Standard Deviation of the Residuals - 0.0062166      >"
      ]
     },
     "execution_count": 111,
     "metadata": {},
     "output_type": "execute_result"
    }
   ],
   "source": [
    "scorecard_1.metadata.project_name = \"no context predictions - aixbt - 0218\"\n",
    "scorecard_1.save(save_modes=[\"obj\"])"
   ]
  },
  {
   "cell_type": "code",
   "execution_count": 125,
   "metadata": {},
   "outputs": [
    {
     "data": {
      "text/html": [
       "<pre style=\"white-space:pre;overflow-x:auto;line-height:normal;font-family:Menlo,'DejaVu Sans Mono',consolas,'Courier New',monospace\"></pre>\n"
      ],
      "text/plain": []
     },
     "metadata": {},
     "output_type": "display_data"
    },
    {
     "data": {
      "text/plain": [
       "<krisi.evaluate.scorecard.ScoreCard object at 0x13fcf28a0\n",
       "           Model_20250218-18284890d0c75b | Dataset_20250218-182848e8eb26fc \n",
       " with context predictions - aixbt - 0218 | regression\n",
       "\n",
       "                     Mean Absolute Error - 0.005482       \n",
       "          Mean Absolute Percentage Error - 0.029957       \n",
       "Symmetric Mean Absolute Percentage Error - 0.01483        \n",
       "                               R-squared - 0.59111        \n",
       "                   Mean of the Residuals - -0.0015328     \n",
       "     Standard Deviation of the Residuals - 0.0062166      >"
      ]
     },
     "execution_count": 125,
     "metadata": {},
     "output_type": "execute_result"
    }
   ],
   "source": [
    "scorecard_2.metadata.project_name = \"with context predictions - aixbt - 0218\"\n",
    "scorecard_2.save(save_modes=[\"obj\"])"
   ]
  },
  {
   "cell_type": "code",
   "execution_count": 1,
   "metadata": {},
   "outputs": [
    {
     "data": {
      "text/html": [
       "<pre style=\"white-space:pre;overflow-x:auto;line-height:normal;font-family:Menlo,'DejaVu Sans Mono',consolas,'Courier New',monospace\">                                          Model_20250218-182932253fc0f0\n",
       "                     Mean Absolute Error                       <span style=\"color: #008080; text-decoration-color: #008080; font-weight: bold\">0.005649</span>\n",
       "          Mean Absolute Percentage Error                       <span style=\"color: #008080; text-decoration-color: #008080; font-weight: bold\">0.031038</span>\n",
       "Symmetric Mean Absolute Percentage Error                       <span style=\"color: #008080; text-decoration-color: #008080; font-weight: bold\">0.015289</span>\n",
       "                               R-squared                       <span style=\"color: #008080; text-decoration-color: #008080; font-weight: bold\">0.548901</span>\n",
       "                   Mean of the Residuals                      <span style=\"color: #008080; text-decoration-color: #008080; font-weight: bold\">-0.002533</span>\n",
       "     Standard Deviation of the Residuals                       <span style=\"color: #008080; text-decoration-color: #008080; font-weight: bold\">0.006217</span>\n",
       "</pre>\n"
      ],
      "text/plain": [
       "                                          Model_20250218-182932253fc0f0\n",
       "                     Mean Absolute Error                       \u001b[1;36m0.005649\u001b[0m\n",
       "          Mean Absolute Percentage Error                       \u001b[1;36m0.031038\u001b[0m\n",
       "Symmetric Mean Absolute Percentage Error                       \u001b[1;36m0.015289\u001b[0m\n",
       "                               R-squared                       \u001b[1;36m0.548901\u001b[0m\n",
       "                   Mean of the Residuals                      \u001b[1;36m-0.002533\u001b[0m\n",
       "     Standard Deviation of the Residuals                       \u001b[1;36m0.006217\u001b[0m\n"
      ]
     },
     "metadata": {},
     "output_type": "display_data"
    },
    {
     "name": "stdout",
     "output_type": "stream",
     "text": [
      "\n",
      "-----\n",
      "\n",
      "WeasyPrint could not import some external libraries. Please carefully follow the installation steps before reporting an issue:\n",
      "https://doc.courtbouillon.org/weasyprint/stable/first_steps.html#installation\n",
      "https://doc.courtbouillon.org/weasyprint/stable/first_steps.html#troubleshooting \n",
      "\n",
      "-----\n",
      "\n"
     ]
    },
    {
     "ename": "OSError",
     "evalue": "cannot load library 'libgobject-2.0-0': dlopen(libgobject-2.0-0, 0x0002): tried: 'libgobject-2.0-0' (no such file), '/System/Volumes/Preboot/Cryptexes/OSlibgobject-2.0-0' (no such file), '/usr/lib/libgobject-2.0-0' (no such file, not in dyld cache), 'libgobject-2.0-0' (no such file).  Additionally, ctypes.util.find_library() did not manage to locate a library called 'libgobject-2.0-0'",
     "output_type": "error",
     "traceback": [
      "\u001b[0;31m---------------------------------------------------------------------------\u001b[0m",
      "\u001b[0;31mOSError\u001b[0m                                   Traceback (most recent call last)",
      "Cell \u001b[0;32mIn[1], line 5\u001b[0m\n\u001b[1;32m      3\u001b[0m last_scorecard \u001b[38;5;241m=\u001b[39m load_scorecards(\u001b[38;5;124m\"\u001b[39m\u001b[38;5;124mno context predictions - aixbt - 0218\u001b[39m\u001b[38;5;124m\"\u001b[39m)[\u001b[38;5;241m-\u001b[39m\u001b[38;5;241m1\u001b[39m]\n\u001b[1;32m      4\u001b[0m last_scorecard\u001b[38;5;241m.\u001b[39mprint(\u001b[38;5;124m\"\u001b[39m\u001b[38;5;124mminimal\u001b[39m\u001b[38;5;124m\"\u001b[39m)\n\u001b[0;32m----> 5\u001b[0m \u001b[43mlast_scorecard\u001b[49m\u001b[38;5;241;43m.\u001b[39;49m\u001b[43mgenerate_report\u001b[49m\u001b[43m(\u001b[49m\u001b[38;5;124;43m'\u001b[39;49m\u001b[38;5;124;43mpdf\u001b[39;49m\u001b[38;5;124;43m'\u001b[39;49m\u001b[43m)\u001b[49m\n",
      "File \u001b[0;32m~/Desktop/GitHub/alphaswarm/venv/lib/python3.12/site-packages/krisi/evaluate/scorecard.py:724\u001b[0m, in \u001b[0;36mScoreCard.generate_report\u001b[0;34m(self, display_modes, html_template_url, css_template_url, author, report_title, override_base_path)\u001b[0m\n\u001b[1;32m    710\u001b[0m display_modes \u001b[38;5;241m=\u001b[39m [\n\u001b[1;32m    711\u001b[0m     DisplayModes\u001b[38;5;241m.\u001b[39mfrom_str(mode) \u001b[38;5;28;01mfor\u001b[39;00m mode \u001b[38;5;129;01min\u001b[39;00m wrap_in_list(display_modes)\n\u001b[1;32m    712\u001b[0m ]\n\u001b[1;32m    713\u001b[0m report \u001b[38;5;241m=\u001b[39m create_report_from_scorecard(\n\u001b[1;32m    714\u001b[0m     \u001b[38;5;28mself\u001b[39m,\n\u001b[1;32m    715\u001b[0m     display_modes,\n\u001b[0;32m   (...)\u001b[0m\n\u001b[1;32m    722\u001b[0m     save_path\u001b[38;5;241m=\u001b[39msave_path,\n\u001b[1;32m    723\u001b[0m )\n\u001b[0;32m--> 724\u001b[0m \u001b[43mreport\u001b[49m\u001b[38;5;241;43m.\u001b[39;49m\u001b[43mgenerate_launch\u001b[49m\u001b[43m(\u001b[49m\u001b[43m)\u001b[49m\n",
      "File \u001b[0;32m~/Desktop/GitHub/alphaswarm/venv/lib/python3.12/site-packages/krisi/report/report.py:72\u001b[0m, in \u001b[0;36mReport.generate_launch\u001b[0;34m(self)\u001b[0m\n\u001b[1;32m     67\u001b[0m figures_by_category \u001b[38;5;241m=\u001b[39m group_by_categories(\n\u001b[1;32m     68\u001b[0m     \u001b[38;5;28mself\u001b[39m\u001b[38;5;241m.\u001b[39mfigures, [el\u001b[38;5;241m.\u001b[39mvalue \u001b[38;5;28;01mfor\u001b[39;00m el \u001b[38;5;129;01min\u001b[39;00m MetricCategories]\n\u001b[1;32m     69\u001b[0m )\n\u001b[1;32m     71\u001b[0m \u001b[38;5;28;01mif\u001b[39;00m DisplayModes\u001b[38;5;241m.\u001b[39mpdf \u001b[38;5;129;01min\u001b[39;00m \u001b[38;5;28mself\u001b[39m\u001b[38;5;241m.\u001b[39mmodes:\n\u001b[0;32m---> 72\u001b[0m     \u001b[43mcreate_pdf_report\u001b[49m\u001b[43m(\u001b[49m\n\u001b[1;32m     73\u001b[0m \u001b[43m        \u001b[49m\u001b[43mpath\u001b[49m\u001b[38;5;241;43m=\u001b[39;49m\u001b[38;5;28;43mself\u001b[39;49m\u001b[38;5;241;43m.\u001b[39;49m\u001b[43msave_path\u001b[49m\u001b[43m,\u001b[49m\n\u001b[1;32m     74\u001b[0m \u001b[43m        \u001b[49m\u001b[43mtitle\u001b[49m\u001b[38;5;241;43m=\u001b[39;49m\u001b[38;5;28;43mself\u001b[39;49m\u001b[38;5;241;43m.\u001b[39;49m\u001b[43mtitle\u001b[49m\u001b[43m,\u001b[49m\n\u001b[1;32m     75\u001b[0m \u001b[43m        \u001b[49m\u001b[43mhtml_template_url\u001b[49m\u001b[38;5;241;43m=\u001b[39;49m\u001b[38;5;28;43mself\u001b[39;49m\u001b[38;5;241;43m.\u001b[39;49m\u001b[43mhtml_template_url\u001b[49m\u001b[43m,\u001b[49m\n\u001b[1;32m     76\u001b[0m \u001b[43m        \u001b[49m\u001b[43mcss_template_url\u001b[49m\u001b[38;5;241;43m=\u001b[39;49m\u001b[38;5;28;43mself\u001b[39;49m\u001b[38;5;241;43m.\u001b[39;49m\u001b[43mcss_template_url\u001b[49m\u001b[43m,\u001b[49m\n\u001b[1;32m     77\u001b[0m \u001b[43m        \u001b[49m\u001b[43mhtml_elements_to_inject\u001b[49m\u001b[38;5;241;43m=\u001b[39;49m\u001b[38;5;28;43mself\u001b[39;49m\u001b[38;5;241;43m.\u001b[39;49m\u001b[43mget_html_elements\u001b[49m\u001b[43m(\u001b[49m\u001b[43m)\u001b[49m\n\u001b[1;32m     78\u001b[0m \u001b[43m        \u001b[49m\u001b[38;5;28;43;01mif\u001b[39;49;00m\u001b[43m \u001b[49m\u001b[38;5;28;43mself\u001b[39;49m\u001b[38;5;241;43m.\u001b[39;49m\u001b[43mget_html_elements\u001b[49m\u001b[43m \u001b[49m\u001b[38;5;129;43;01mis\u001b[39;49;00m\u001b[43m \u001b[49m\u001b[38;5;129;43;01mnot\u001b[39;49;00m\u001b[43m \u001b[49m\u001b[38;5;28;43;01mNone\u001b[39;49;00m\n\u001b[1;32m     79\u001b[0m \u001b[43m        \u001b[49m\u001b[38;5;28;43;01melse\u001b[39;49;00m\u001b[43m \u001b[49m\u001b[38;5;28;43mdict\u001b[39;49m\u001b[43m(\u001b[49m\u001b[43m)\u001b[49m\u001b[43m,\u001b[49m\n\u001b[1;32m     80\u001b[0m \u001b[43m    \u001b[49m\u001b[43m)\u001b[49m\n\u001b[1;32m     82\u001b[0m \u001b[38;5;28;01mif\u001b[39;00m DisplayModes\u001b[38;5;241m.\u001b[39mdirect \u001b[38;5;129;01min\u001b[39;00m \u001b[38;5;28mself\u001b[39m\u001b[38;5;241m.\u001b[39mmodes:\n\u001b[1;32m     83\u001b[0m     \u001b[38;5;28;01mif\u001b[39;00m \u001b[38;5;129;01mnot\u001b[39;00m get_global_state()\u001b[38;5;241m.\u001b[39mrun_type \u001b[38;5;241m==\u001b[39m RunType\u001b[38;5;241m.\u001b[39mtest:\n",
      "File \u001b[0;32m~/Desktop/GitHub/alphaswarm/venv/lib/python3.12/site-packages/krisi/report/pdf.py:85\u001b[0m, in \u001b[0;36mcreate_pdf_report\u001b[0;34m(path, title, html_template_url, css_template_url, html_elements_to_inject)\u001b[0m\n\u001b[1;32m     83\u001b[0m html_elements_to_inject[\u001b[38;5;124m\"\u001b[39m\u001b[38;5;124mtitle\u001b[39m\u001b[38;5;124m\"\u001b[39m] \u001b[38;5;241m=\u001b[39m title\n\u001b[1;32m     84\u001b[0m report_html \u001b[38;5;241m=\u001b[39m __create_html_report(html_template_url, html_elements_to_inject)\n\u001b[0;32m---> 85\u001b[0m \u001b[43m__convert_html_to_pdf\u001b[49m\u001b[43m(\u001b[49m\u001b[43mreport_html\u001b[49m\u001b[43m,\u001b[49m\u001b[43m \u001b[49m\u001b[43mpath\u001b[49m\u001b[43m,\u001b[49m\u001b[43m \u001b[49m\u001b[38;5;124;43mf\u001b[39;49m\u001b[38;5;124;43m\"\u001b[39;49m\u001b[38;5;132;43;01m{\u001b[39;49;00m\u001b[43mtitle\u001b[49m\u001b[38;5;132;43;01m}\u001b[39;49;00m\u001b[38;5;124;43m.pdf\u001b[39;49m\u001b[38;5;124;43m\"\u001b[39;49m\u001b[43m,\u001b[49m\u001b[43m \u001b[49m\u001b[43mcss_template_url\u001b[49m\u001b[43m)\u001b[49m\n",
      "File \u001b[0;32m~/Desktop/GitHub/alphaswarm/venv/lib/python3.12/site-packages/krisi/report/pdf.py:57\u001b[0m, in \u001b[0;36m__convert_html_to_pdf\u001b[0;34m(source_html, output_path, report_name, css_template_url)\u001b[0m\n\u001b[1;32m     54\u001b[0m \u001b[38;5;66;03m# import pkgutil\u001b[39;00m\n\u001b[1;32m     55\u001b[0m \u001b[38;5;28;01mimport\u001b[39;00m\u001b[38;5;250m \u001b[39m\u001b[38;5;21;01mlogging\u001b[39;00m\n\u001b[0;32m---> 57\u001b[0m \u001b[38;5;28;01mfrom\u001b[39;00m\u001b[38;5;250m \u001b[39m\u001b[38;5;21;01mweasyprint\u001b[39;00m\u001b[38;5;250m \u001b[39m\u001b[38;5;28;01mimport\u001b[39;00m CSS, HTML\n\u001b[1;32m     59\u001b[0m logging\u001b[38;5;241m.\u001b[39mgetLogger(\u001b[38;5;124m\"\u001b[39m\u001b[38;5;124mweasyprint\u001b[39m\u001b[38;5;124m\"\u001b[39m)\u001b[38;5;241m.\u001b[39msetLevel(\u001b[38;5;241m100\u001b[39m)\n\u001b[1;32m     61\u001b[0m ensure_path(output_path)\n",
      "File \u001b[0;32m~/Desktop/GitHub/alphaswarm/venv/lib/python3.12/site-packages/weasyprint/__init__.py:429\u001b[0m\n\u001b[1;32m    426\u001b[0m         \u001b[38;5;28;01myield\u001b[39;00m \u001b[38;5;124m'\u001b[39m\u001b[38;5;124mstring\u001b[39m\u001b[38;5;124m'\u001b[39m, string, base_url, \u001b[38;5;28;01mNone\u001b[39;00m\n\u001b[1;32m    428\u001b[0m \u001b[38;5;66;03m# Work around circular imports.\u001b[39;00m\n\u001b[0;32m--> 429\u001b[0m \u001b[38;5;28;01mfrom\u001b[39;00m\u001b[38;5;250m \u001b[39m\u001b[38;5;21;01m.\u001b[39;00m\u001b[38;5;21;01mcss\u001b[39;00m\u001b[38;5;250m \u001b[39m\u001b[38;5;28;01mimport\u001b[39;00m preprocess_stylesheet  \u001b[38;5;66;03m# noqa: I001, E402\u001b[39;00m\n\u001b[1;32m    430\u001b[0m \u001b[38;5;28;01mfrom\u001b[39;00m\u001b[38;5;250m \u001b[39m\u001b[38;5;21;01m.\u001b[39;00m\u001b[38;5;21;01mhtml\u001b[39;00m\u001b[38;5;250m \u001b[39m\u001b[38;5;28;01mimport\u001b[39;00m (  \u001b[38;5;66;03m# noqa: E402\u001b[39;00m\n\u001b[1;32m    431\u001b[0m     HTML5_UA_COUNTER_STYLE, HTML5_UA_STYLESHEET, HTML5_UA_FORM_STYLESHEET,\n\u001b[1;32m    432\u001b[0m     HTML5_PH_STYLESHEET)\n\u001b[1;32m    433\u001b[0m \u001b[38;5;28;01mfrom\u001b[39;00m\u001b[38;5;250m \u001b[39m\u001b[38;5;21;01m.\u001b[39;00m\u001b[38;5;21;01mdocument\u001b[39;00m\u001b[38;5;250m \u001b[39m\u001b[38;5;28;01mimport\u001b[39;00m Document, Page  \u001b[38;5;66;03m# noqa: E402\u001b[39;00m\n",
      "File \u001b[0;32m~/Desktop/GitHub/alphaswarm/venv/lib/python3.12/site-packages/weasyprint/css/__init__.py:28\u001b[0m\n\u001b[1;32m     26\u001b[0m \u001b[38;5;28;01mfrom\u001b[39;00m\u001b[38;5;250m \u001b[39m\u001b[38;5;21;01m.\u001b[39;00m\u001b[38;5;21;01m.\u001b[39;00m\u001b[38;5;21;01murls\u001b[39;00m\u001b[38;5;250m \u001b[39m\u001b[38;5;28;01mimport\u001b[39;00m URLFetchingError, get_url_attribute, url_join\n\u001b[1;32m     27\u001b[0m \u001b[38;5;28;01mfrom\u001b[39;00m\u001b[38;5;250m \u001b[39m\u001b[38;5;21;01m.\u001b[39;00m\u001b[38;5;250m \u001b[39m\u001b[38;5;28;01mimport\u001b[39;00m counters, media_queries\n\u001b[0;32m---> 28\u001b[0m \u001b[38;5;28;01mfrom\u001b[39;00m\u001b[38;5;250m \u001b[39m\u001b[38;5;21;01m.\u001b[39;00m\u001b[38;5;21;01mcomputed_values\u001b[39;00m\u001b[38;5;250m \u001b[39m\u001b[38;5;28;01mimport\u001b[39;00m COMPUTER_FUNCTIONS\n\u001b[1;32m     29\u001b[0m \u001b[38;5;28;01mfrom\u001b[39;00m\u001b[38;5;250m \u001b[39m\u001b[38;5;21;01m.\u001b[39;00m\u001b[38;5;21;01mproperties\u001b[39;00m\u001b[38;5;250m \u001b[39m\u001b[38;5;28;01mimport\u001b[39;00m INHERITED, INITIAL_NOT_COMPUTED, INITIAL_VALUES, ZERO_PIXELS\n\u001b[1;32m     30\u001b[0m \u001b[38;5;28;01mfrom\u001b[39;00m\u001b[38;5;250m \u001b[39m\u001b[38;5;21;01m.\u001b[39;00m\u001b[38;5;21;01mvalidation\u001b[39;00m\u001b[38;5;250m \u001b[39m\u001b[38;5;28;01mimport\u001b[39;00m preprocess_declarations\n",
      "File \u001b[0;32m~/Desktop/GitHub/alphaswarm/venv/lib/python3.12/site-packages/weasyprint/css/computed_values.py:9\u001b[0m\n\u001b[1;32m      6\u001b[0m \u001b[38;5;28;01mfrom\u001b[39;00m\u001b[38;5;250m \u001b[39m\u001b[38;5;21;01mtinycss2\u001b[39;00m\u001b[38;5;21;01m.\u001b[39;00m\u001b[38;5;21;01mcolor4\u001b[39;00m\u001b[38;5;250m \u001b[39m\u001b[38;5;28;01mimport\u001b[39;00m parse_color\n\u001b[1;32m      8\u001b[0m \u001b[38;5;28;01mfrom\u001b[39;00m\u001b[38;5;250m \u001b[39m\u001b[38;5;21;01m.\u001b[39;00m\u001b[38;5;21;01m.\u001b[39;00m\u001b[38;5;21;01mlogger\u001b[39;00m\u001b[38;5;250m \u001b[39m\u001b[38;5;28;01mimport\u001b[39;00m LOGGER\n\u001b[0;32m----> 9\u001b[0m \u001b[38;5;28;01mfrom\u001b[39;00m\u001b[38;5;250m \u001b[39m\u001b[38;5;21;01m.\u001b[39;00m\u001b[38;5;21;01m.\u001b[39;00m\u001b[38;5;21;01mtext\u001b[39;00m\u001b[38;5;21;01m.\u001b[39;00m\u001b[38;5;21;01mffi\u001b[39;00m\u001b[38;5;250m \u001b[39m\u001b[38;5;28;01mimport\u001b[39;00m FROM_UNITS, ffi, pango\n\u001b[1;32m     10\u001b[0m \u001b[38;5;28;01mfrom\u001b[39;00m\u001b[38;5;250m \u001b[39m\u001b[38;5;21;01m.\u001b[39;00m\u001b[38;5;21;01m.\u001b[39;00m\u001b[38;5;21;01mtext\u001b[39;00m\u001b[38;5;21;01m.\u001b[39;00m\u001b[38;5;21;01mline_break\u001b[39;00m\u001b[38;5;250m \u001b[39m\u001b[38;5;28;01mimport\u001b[39;00m Layout, first_line_metrics\n\u001b[1;32m     11\u001b[0m \u001b[38;5;28;01mfrom\u001b[39;00m\u001b[38;5;250m \u001b[39m\u001b[38;5;21;01m.\u001b[39;00m\u001b[38;5;21;01m.\u001b[39;00m\u001b[38;5;21;01murls\u001b[39;00m\u001b[38;5;250m \u001b[39m\u001b[38;5;28;01mimport\u001b[39;00m get_link_attribute\n",
      "File \u001b[0;32m~/Desktop/GitHub/alphaswarm/venv/lib/python3.12/site-packages/weasyprint/text/ffi.py:463\u001b[0m\n\u001b[1;32m    460\u001b[0m         \u001b[38;5;28;01mwith\u001b[39;00m suppress((\u001b[38;5;167;01mOSError\u001b[39;00m, \u001b[38;5;167;01mFileNotFoundError\u001b[39;00m)):\n\u001b[1;32m    461\u001b[0m             os\u001b[38;5;241m.\u001b[39madd_dll_directory(dll_directory)\n\u001b[0;32m--> 463\u001b[0m gobject \u001b[38;5;241m=\u001b[39m \u001b[43m_dlopen\u001b[49m\u001b[43m(\u001b[49m\n\u001b[1;32m    464\u001b[0m \u001b[43m    \u001b[49m\u001b[43mffi\u001b[49m\u001b[43m,\u001b[49m\u001b[43m \u001b[49m\u001b[38;5;124;43m'\u001b[39;49m\u001b[38;5;124;43mlibgobject-2.0-0\u001b[39;49m\u001b[38;5;124;43m'\u001b[39;49m\u001b[43m,\u001b[49m\u001b[43m \u001b[49m\u001b[38;5;124;43m'\u001b[39;49m\u001b[38;5;124;43mgobject-2.0-0\u001b[39;49m\u001b[38;5;124;43m'\u001b[39;49m\u001b[43m,\u001b[49m\u001b[43m \u001b[49m\u001b[38;5;124;43m'\u001b[39;49m\u001b[38;5;124;43mgobject-2.0\u001b[39;49m\u001b[38;5;124;43m'\u001b[39;49m\u001b[43m,\u001b[49m\n\u001b[1;32m    465\u001b[0m \u001b[43m    \u001b[49m\u001b[38;5;124;43m'\u001b[39;49m\u001b[38;5;124;43mlibgobject-2.0.so.0\u001b[39;49m\u001b[38;5;124;43m'\u001b[39;49m\u001b[43m,\u001b[49m\u001b[43m \u001b[49m\u001b[38;5;124;43m'\u001b[39;49m\u001b[38;5;124;43mlibgobject-2.0.dylib\u001b[39;49m\u001b[38;5;124;43m'\u001b[39;49m\u001b[43m,\u001b[49m\u001b[43m \u001b[49m\u001b[38;5;124;43m'\u001b[39;49m\u001b[38;5;124;43mlibgobject-2.0-0.dll\u001b[39;49m\u001b[38;5;124;43m'\u001b[39;49m\u001b[43m)\u001b[49m\n\u001b[1;32m    466\u001b[0m pango \u001b[38;5;241m=\u001b[39m _dlopen(\n\u001b[1;32m    467\u001b[0m     ffi, \u001b[38;5;124m'\u001b[39m\u001b[38;5;124mlibpango-1.0-0\u001b[39m\u001b[38;5;124m'\u001b[39m, \u001b[38;5;124m'\u001b[39m\u001b[38;5;124mpango-1.0-0\u001b[39m\u001b[38;5;124m'\u001b[39m, \u001b[38;5;124m'\u001b[39m\u001b[38;5;124mpango-1.0\u001b[39m\u001b[38;5;124m'\u001b[39m, \u001b[38;5;124m'\u001b[39m\u001b[38;5;124mlibpango-1.0.so.0\u001b[39m\u001b[38;5;124m'\u001b[39m,\n\u001b[1;32m    468\u001b[0m     \u001b[38;5;124m'\u001b[39m\u001b[38;5;124mlibpango-1.0.dylib\u001b[39m\u001b[38;5;124m'\u001b[39m, \u001b[38;5;124m'\u001b[39m\u001b[38;5;124mlibpango-1.0-0.dll\u001b[39m\u001b[38;5;124m'\u001b[39m)\n\u001b[1;32m    469\u001b[0m harfbuzz \u001b[38;5;241m=\u001b[39m _dlopen(\n\u001b[1;32m    470\u001b[0m     ffi, \u001b[38;5;124m'\u001b[39m\u001b[38;5;124mlibharfbuzz-0\u001b[39m\u001b[38;5;124m'\u001b[39m, \u001b[38;5;124m'\u001b[39m\u001b[38;5;124mharfbuzz\u001b[39m\u001b[38;5;124m'\u001b[39m, \u001b[38;5;124m'\u001b[39m\u001b[38;5;124mharfbuzz-0.0\u001b[39m\u001b[38;5;124m'\u001b[39m,\n\u001b[1;32m    471\u001b[0m     \u001b[38;5;124m'\u001b[39m\u001b[38;5;124mlibharfbuzz.so.0\u001b[39m\u001b[38;5;124m'\u001b[39m, \u001b[38;5;124m'\u001b[39m\u001b[38;5;124mlibharfbuzz.0.dylib\u001b[39m\u001b[38;5;124m'\u001b[39m, \u001b[38;5;124m'\u001b[39m\u001b[38;5;124mlibharfbuzz-0.dll\u001b[39m\u001b[38;5;124m'\u001b[39m)\n",
      "File \u001b[0;32m~/Desktop/GitHub/alphaswarm/venv/lib/python3.12/site-packages/weasyprint/text/ffi.py:451\u001b[0m, in \u001b[0;36m_dlopen\u001b[0;34m(ffi, allow_fail, *names)\u001b[0m\n\u001b[1;32m    441\u001b[0m \u001b[38;5;66;03m# Re-raise the exception.\u001b[39;00m\n\u001b[1;32m    442\u001b[0m \u001b[38;5;28mprint\u001b[39m(\n\u001b[1;32m    443\u001b[0m     \u001b[38;5;124m'\u001b[39m\u001b[38;5;130;01m\\n\u001b[39;00m\u001b[38;5;124m-----\u001b[39m\u001b[38;5;130;01m\\n\u001b[39;00m\u001b[38;5;130;01m\\n\u001b[39;00m\u001b[38;5;124m'\u001b[39m\n\u001b[1;32m    444\u001b[0m     \u001b[38;5;124m'\u001b[39m\u001b[38;5;124mWeasyPrint could not import some external libraries. Please \u001b[39m\u001b[38;5;124m'\u001b[39m\n\u001b[0;32m   (...)\u001b[0m\n\u001b[1;32m    449\u001b[0m     \u001b[38;5;124m'\u001b[39m\u001b[38;5;124mfirst_steps.html#troubleshooting\u001b[39m\u001b[38;5;124m'\u001b[39m,\n\u001b[1;32m    450\u001b[0m     \u001b[38;5;124m'\u001b[39m\u001b[38;5;130;01m\\n\u001b[39;00m\u001b[38;5;130;01m\\n\u001b[39;00m\u001b[38;5;124m-----\u001b[39m\u001b[38;5;130;01m\\n\u001b[39;00m\u001b[38;5;124m'\u001b[39m)  \u001b[38;5;66;03m# pragma: no cover\u001b[39;00m\n\u001b[0;32m--> 451\u001b[0m \u001b[38;5;28;01mreturn\u001b[39;00m \u001b[43mffi\u001b[49m\u001b[38;5;241;43m.\u001b[39;49m\u001b[43mdlopen\u001b[49m\u001b[43m(\u001b[49m\u001b[43mnames\u001b[49m\u001b[43m[\u001b[49m\u001b[38;5;241;43m0\u001b[39;49m\u001b[43m]\u001b[49m\u001b[43m,\u001b[49m\u001b[43m \u001b[49m\u001b[43mflags\u001b[49m\u001b[43m)\u001b[49m\n",
      "File \u001b[0;32m~/Desktop/GitHub/alphaswarm/venv/lib/python3.12/site-packages/cffi/api.py:150\u001b[0m, in \u001b[0;36mFFI.dlopen\u001b[0;34m(self, name, flags)\u001b[0m\n\u001b[1;32m    147\u001b[0m     \u001b[38;5;28;01mraise\u001b[39;00m \u001b[38;5;167;01mTypeError\u001b[39;00m(\u001b[38;5;124m\"\u001b[39m\u001b[38;5;124mdlopen(name): name must be a file name, None, \u001b[39m\u001b[38;5;124m\"\u001b[39m\n\u001b[1;32m    148\u001b[0m                     \u001b[38;5;124m\"\u001b[39m\u001b[38;5;124mor an already-opened \u001b[39m\u001b[38;5;124m'\u001b[39m\u001b[38;5;124mvoid *\u001b[39m\u001b[38;5;124m'\u001b[39m\u001b[38;5;124m handle\u001b[39m\u001b[38;5;124m\"\u001b[39m)\n\u001b[1;32m    149\u001b[0m \u001b[38;5;28;01mwith\u001b[39;00m \u001b[38;5;28mself\u001b[39m\u001b[38;5;241m.\u001b[39m_lock:\n\u001b[0;32m--> 150\u001b[0m     lib, function_cache \u001b[38;5;241m=\u001b[39m \u001b[43m_make_ffi_library\u001b[49m\u001b[43m(\u001b[49m\u001b[38;5;28;43mself\u001b[39;49m\u001b[43m,\u001b[49m\u001b[43m \u001b[49m\u001b[43mname\u001b[49m\u001b[43m,\u001b[49m\u001b[43m \u001b[49m\u001b[43mflags\u001b[49m\u001b[43m)\u001b[49m\n\u001b[1;32m    151\u001b[0m     \u001b[38;5;28mself\u001b[39m\u001b[38;5;241m.\u001b[39m_function_caches\u001b[38;5;241m.\u001b[39mappend(function_cache)\n\u001b[1;32m    152\u001b[0m     \u001b[38;5;28mself\u001b[39m\u001b[38;5;241m.\u001b[39m_libraries\u001b[38;5;241m.\u001b[39mappend(lib)\n",
      "File \u001b[0;32m~/Desktop/GitHub/alphaswarm/venv/lib/python3.12/site-packages/cffi/api.py:834\u001b[0m, in \u001b[0;36m_make_ffi_library\u001b[0;34m(ffi, libname, flags)\u001b[0m\n\u001b[1;32m    832\u001b[0m \u001b[38;5;28;01mdef\u001b[39;00m\u001b[38;5;250m \u001b[39m\u001b[38;5;21m_make_ffi_library\u001b[39m(ffi, libname, flags):\n\u001b[1;32m    833\u001b[0m     backend \u001b[38;5;241m=\u001b[39m ffi\u001b[38;5;241m.\u001b[39m_backend\n\u001b[0;32m--> 834\u001b[0m     backendlib \u001b[38;5;241m=\u001b[39m \u001b[43m_load_backend_lib\u001b[49m\u001b[43m(\u001b[49m\u001b[43mbackend\u001b[49m\u001b[43m,\u001b[49m\u001b[43m \u001b[49m\u001b[43mlibname\u001b[49m\u001b[43m,\u001b[49m\u001b[43m \u001b[49m\u001b[43mflags\u001b[49m\u001b[43m)\u001b[49m\n\u001b[1;32m    835\u001b[0m     \u001b[38;5;66;03m#\u001b[39;00m\n\u001b[1;32m    836\u001b[0m     \u001b[38;5;28;01mdef\u001b[39;00m\u001b[38;5;250m \u001b[39m\u001b[38;5;21maccessor_function\u001b[39m(name):\n",
      "File \u001b[0;32m~/Desktop/GitHub/alphaswarm/venv/lib/python3.12/site-packages/cffi/api.py:829\u001b[0m, in \u001b[0;36m_load_backend_lib\u001b[0;34m(backend, name, flags)\u001b[0m\n\u001b[1;32m    827\u001b[0m     \u001b[38;5;28;01mif\u001b[39;00m first_error \u001b[38;5;129;01mis\u001b[39;00m \u001b[38;5;129;01mnot\u001b[39;00m \u001b[38;5;28;01mNone\u001b[39;00m:\n\u001b[1;32m    828\u001b[0m         msg \u001b[38;5;241m=\u001b[39m \u001b[38;5;124m\"\u001b[39m\u001b[38;5;132;01m%s\u001b[39;00m\u001b[38;5;124m.  Additionally, \u001b[39m\u001b[38;5;132;01m%s\u001b[39;00m\u001b[38;5;124m\"\u001b[39m \u001b[38;5;241m%\u001b[39m (first_error, msg)\n\u001b[0;32m--> 829\u001b[0m     \u001b[38;5;28;01mraise\u001b[39;00m \u001b[38;5;167;01mOSError\u001b[39;00m(msg)\n\u001b[1;32m    830\u001b[0m \u001b[38;5;28;01mreturn\u001b[39;00m backend\u001b[38;5;241m.\u001b[39mload_library(path, flags)\n",
      "\u001b[0;31mOSError\u001b[0m: cannot load library 'libgobject-2.0-0': dlopen(libgobject-2.0-0, 0x0002): tried: 'libgobject-2.0-0' (no such file), '/System/Volumes/Preboot/Cryptexes/OSlibgobject-2.0-0' (no such file), '/usr/lib/libgobject-2.0-0' (no such file, not in dyld cache), 'libgobject-2.0-0' (no such file).  Additionally, ctypes.util.find_library() did not manage to locate a library called 'libgobject-2.0-0'"
     ]
    }
   ],
   "source": [
    "\n",
    "from krisi import load_scorecards\n",
    "\n",
    "last_scorecard = load_scorecards(\"no context predictions - aixbt - 0218\")[-1]\n",
    "last_scorecard.print(\"minimal\")\n",
    "last_scorecard.generate_report('pdf')"
   ]
  }
 ],
 "metadata": {
  "kernelspec": {
   "display_name": "venv",
   "language": "python",
   "name": "python3"
  },
  "language_info": {
   "codemirror_mode": {
    "name": "ipython",
    "version": 3
   },
   "file_extension": ".py",
   "mimetype": "text/x-python",
   "name": "python",
   "nbconvert_exporter": "python",
   "pygments_lexer": "ipython3",
   "version": "3.12.4"
  }
 },
 "nbformat": 4,
 "nbformat_minor": 2
}
